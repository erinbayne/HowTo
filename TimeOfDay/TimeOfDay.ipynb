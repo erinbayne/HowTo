{
 "cells": [
  {
   "cell_type": "markdown",
   "id": "1e5d53e5-7b8e-4763-8527-2acbf3b875c7",
   "metadata": {},
   "source": [
    "# How to analyse animal behavior data on a 24 hour cycle"
   ]
  },
  {
   "cell_type": "markdown",
   "id": "5aa6d097-319a-4f25-80fd-3d733c2e06dc",
   "metadata": {},
   "source": [
    "Data that examines how often animals do something at certain times of the day is an example of circular data. Circular data has special properties because the zero point is arbitrary. For example, we often treat data from midnight to 1 AM as hour 0 of a day.  Data from 11 PM to 11:59:59 PM are hour 23 of the day. This designation of midnight as hour 0 is completely arbitrary as we could just as well treat noon as hour 0. In addition, 11:59 and 12:01 are only 2 minutes apart but using hour of the day they are in completely at hours 0 and 23, respectively. This can be problematic when using regression analyses when time of day is treated as continuous. Data with no true zero point has unique properties that require special statistical consideration. This notebook will walk you through some things to consider when analysing these types of data. While we focus on time of day, day of year, location on the planet have similar properties but only if your sampling includes the \"full circle\".  More on the full circle later.\n",
    "\n",
    "For these examples, we will use Stata as our analysis and data processing software."
   ]
  },
  {
   "cell_type": "code",
   "execution_count": 3,
   "id": "08a2317d-a708-4fd9-b66a-f4e72f4d360a",
   "metadata": {},
   "outputs": [],
   "source": [
    "import ipystata\n",
    "from ipystata.config import config_stata\n",
    "config_stata(\"C:\\Program Files\\Stata17\\StataMP-64.exe\") "
   ]
  },
  {
   "cell_type": "code",
   "execution_count": 4,
   "id": "ce3f45b6-2ad9-4e91-83c8-5b69e939ce91",
   "metadata": {},
   "outputs": [
    {
     "name": "stdout",
     "output_type": "stream",
     "text": [
      "Stata 17 is running\n",
      "\n"
     ]
    }
   ],
   "source": [
    "%%stata \n",
    "display \"Stata \" c(version) \" is running\""
   ]
  },
  {
   "cell_type": "markdown",
   "id": "ce6e96c2-9f14-4276-ab55-eb4cbebe5308",
   "metadata": {},
   "source": [
    "## Ovenbird example"
   ]
  },
  {
   "cell_type": "markdown",
   "id": "5e0dedc6-71e0-4234-8652-77f5fa4a368c",
   "metadata": {},
   "source": [
    "OK, lets start with a very simple question. Does the number of songs per minute of Ovenbirds vary across a 24 cycle? For this, we selected a single location from WildTrax where Ovenbirds were know to occur (H-P10-31-33). We tagged every song of the Ovenbird sang per minute in a series of audio recordings. ARUs collected a 1-minute recording every 20 minutes across a 24 hour period.  The date was May 29, 2021. The WildTrax project that holds the recordings is [here:](https://www.wildtrax.ca/home/aru-tasks.html?sensorId=ARU&projectId=1333).  First thing we have to do is configure the data to properly track time of day. Each statistical package does this somewhat differently but in virtually all software time of day is stored interally as a proportion of the day with midnight being 0 and 11:59:59 PM being 0.99999 th of a day. What you see in a data table for time of day often should be viewed as a label rather than the actual numbers that the computer uses for computation. If time is stored as text you have to convert it first.\n",
    "\n",
    "Below is a screen shot of Excel showing how it \"views dates\" versus the numbers it actually uses when computing time of day statistics."
   ]
  },
  {
   "cell_type": "code",
   "execution_count": 9,
   "id": "780f0bb3-4a39-427f-813d-9f0c4343312c",
   "metadata": {},
   "outputs": [
    {
     "data": {
      "text/html": [
       "<img src=\"ExcelTimeOfDay.png\" width=\"900\" height=\"900\"/>"
      ],
      "text/plain": [
       "<IPython.core.display.Image object>"
      ]
     },
     "execution_count": 9,
     "metadata": {},
     "output_type": "execute_result"
    }
   ],
   "source": [
    "from IPython.display import Image\n",
    "Image(url=\"ExcelTimeOfDay.png\", width=900, height=900)"
   ]
  },
  {
   "cell_type": "code",
   "execution_count": null,
   "id": "aeb9ee68-1f85-4848-b3ea-417fba7b5b62",
   "metadata": {},
   "outputs": [],
   "source": []
  }
 ],
 "metadata": {
  "kernelspec": {
   "display_name": "Python 3 (ipykernel)",
   "language": "python",
   "name": "python3"
  },
  "language_info": {
   "codemirror_mode": {
    "name": "ipython",
    "version": 3
   },
   "file_extension": ".py",
   "mimetype": "text/x-python",
   "name": "python",
   "nbconvert_exporter": "python",
   "pygments_lexer": "ipython3",
   "version": "3.9.7"
  }
 },
 "nbformat": 4,
 "nbformat_minor": 5
}
