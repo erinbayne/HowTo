{
 "cells": [
  {
   "cell_type": "markdown",
   "id": "1e5d53e5-7b8e-4763-8527-2acbf3b875c7",
   "metadata": {},
   "source": [
    "# How to analyse animal behavior data on a 24 hour cycle"
   ]
  },
  {
   "cell_type": "raw",
   "id": "382d9c69-fef9-4a4a-b87e-cf67b3d44223",
   "metadata": {},
   "source": [
    "Data that examines how often animals do something at certain times of the day is an example of circular data.\n",
    "Circular data has special properties because the zero point in such data is arbitrary.\n",
    "For example, we often treat data from midnight to 1 AM as the zero hour of the day.  Data from 11 PM to 11:59:59 PM is in the 23 hour of the day.\n",
    "This is completely arbitrary as we could just as well treat noon as the zero hour.\n",
    "In addition, 11:59 and 12:01 are only 2 minutes apart but using hour of the day they are in completely different hours of the day 0 and 23.\n",
    "This can be problematic when using regression where time of day is treated as a continuous covariate.\n",
    "Data with no true zero has unique properties that require special statistical consideration and this sheet will walk you through some things to consider"
   ]
  }
 ],
 "metadata": {
  "kernelspec": {
   "display_name": "Python 3 (ipykernel)",
   "language": "python",
   "name": "python3"
  },
  "language_info": {
   "codemirror_mode": {
    "name": "ipython",
    "version": 3
   },
   "file_extension": ".py",
   "mimetype": "text/x-python",
   "name": "python",
   "nbconvert_exporter": "python",
   "pygments_lexer": "ipython3",
   "version": "3.9.7"
  }
 },
 "nbformat": 4,
 "nbformat_minor": 5
}
