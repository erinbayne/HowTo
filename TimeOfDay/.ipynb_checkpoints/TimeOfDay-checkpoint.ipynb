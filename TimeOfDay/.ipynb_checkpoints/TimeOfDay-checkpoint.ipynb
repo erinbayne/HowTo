{
 "cells": [
  {
   "cell_type": "markdown",
   "id": "1e5d53e5-7b8e-4763-8527-2acbf3b875c7",
   "metadata": {},
   "source": [
    "# How to analyse animal behavior data on a 24 hour cycle"
   ]
  }
 ],
 "metadata": {
  "kernelspec": {
   "display_name": "Python 3 (ipykernel)",
   "language": "python",
   "name": "python3"
  },
  "language_info": {
   "codemirror_mode": {
    "name": "ipython",
    "version": 3
   },
   "file_extension": ".py",
   "mimetype": "text/x-python",
   "name": "python",
   "nbconvert_exporter": "python",
   "pygments_lexer": "ipython3",
   "version": "3.9.7"
  }
 },
 "nbformat": 4,
 "nbformat_minor": 5
}
