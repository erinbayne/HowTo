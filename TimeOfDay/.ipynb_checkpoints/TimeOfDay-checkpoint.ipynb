{
 "cells": [
  {
   "cell_type": "markdown",
   "id": "1e5d53e5-7b8e-4763-8527-2acbf3b875c7",
   "metadata": {},
   "source": [
    "# How to analyse animal behavior data on a 24 hour cycle"
   ]
  },
  {
   "cell_type": "markdown",
   "id": "5aa6d097-319a-4f25-80fd-3d733c2e06dc",
   "metadata": {},
   "source": [
    "Data that examines how often animals do something at certain times of the day is an example of circular data. Circular data has special properties because the zero point in such data is arbitrary.\n",
    "For example, we often treat data from midnight to 1 AM as the zero hour of the day.  Data from 11 PM to 11:59:59 PM is in the 23 hour of the day. This is completely arbitrary as we could just as well treat noon as the zero hour. In addition, 11:59 and 12:01 are only 2 minutes apart but using hour of the day they are in completely different hours of the day 0 and 23. This can be problematic when using regression where time of day is treated as a continuous covariate. Data with no true zero has unique properties that require special statistical consideration and this notebook will walk you through some things to consider when analysing this type of data.\n",
    "\n",
    "For these examples, we will use Stata as our analysis and data processing software."
   ]
  },
  {
   "cell_type": "code",
   "execution_count": 3,
   "id": "08a2317d-a708-4fd9-b66a-f4e72f4d360a",
   "metadata": {},
   "outputs": [],
   "source": [
    "import ipystata\n",
    "from ipystata.config import config_stata\n",
    "config_stata(\"C:\\Program Files\\Stata17\\StataMP-64.exe\") "
   ]
  },
  {
   "cell_type": "code",
   "execution_count": 4,
   "id": "ce3f45b6-2ad9-4e91-83c8-5b69e939ce91",
   "metadata": {},
   "outputs": [
    {
     "name": "stdout",
     "output_type": "stream",
     "text": [
      "Stata 17 is running\n",
      "\n"
     ]
    }
   ],
   "source": [
    "%%stata \n",
    "display \"Stata \" c(version) \" is running\""
   ]
  },
  {
   "cell_type": "markdown",
   "id": "ce6e96c2-9f14-4276-ab55-eb4cbebe5308",
   "metadata": {},
   "source": [
    "## Ovenbird example"
   ]
  },
  {
   "cell_type": "markdown",
   "id": "5e0dedc6-71e0-4234-8652-77f5fa4a368c",
   "metadata": {},
   "source": [
    "OK, lets start with a very simple question. Does the number of songs per minute of Ovenbirds vary across a 24 cycle? For this, we selected a single location from WildTrax where Ovenbirds were know to occur (H-P10-31-33).  \n",
    "We tagged every song of the Ovenbird sang per minute in a series of audio recordings. ARUs collected a 1-minute recording every 20 minutes across a 24 hour period.  The date was May 29, 2021. The WildTrax project that houses the data is [here:](https://www.wildtrax.ca/home/aru-tasks.html?sensorId=ARU&projectId=1333)"
   ]
  },
  {
   "cell_type": "code",
   "execution_count": null,
   "id": "780f0bb3-4a39-427f-813d-9f0c4343312c",
   "metadata": {},
   "outputs": [],
   "source": []
  }
 ],
 "metadata": {
  "kernelspec": {
   "display_name": "Python 3 (ipykernel)",
   "language": "python",
   "name": "python3"
  },
  "language_info": {
   "codemirror_mode": {
    "name": "ipython",
    "version": 3
   },
   "file_extension": ".py",
   "mimetype": "text/x-python",
   "name": "python",
   "nbconvert_exporter": "python",
   "pygments_lexer": "ipython3",
   "version": "3.9.7"
  }
 },
 "nbformat": 4,
 "nbformat_minor": 5
}
