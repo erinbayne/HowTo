{
 "cells": [
  {
   "cell_type": "markdown",
   "id": "1e5d53e5-7b8e-4763-8527-2acbf3b875c7",
   "metadata": {},
   "source": [
    "# How to analyse animal behavior data on a 24 hour cycle"
   ]
  },
  {
   "cell_type": "raw",
   "id": "382d9c69-fef9-4a4a-b87e-cf67b3d44223",
   "metadata": {},
   "source": [
    "Data that examines how often animals do something at certain times of the day is an example of circular data.\n",
    "Circular data has special properties because the zero point in such data is arbitrary.\n",
    "For example, we often treat data from midnight to 1 AM as the zero hour of the day.  Data from 11 PM to 11:59:59 PM is in the 23 hour of the day.\n",
    "This is completely arbitrary as we could just as well treat noon as the zero hour.\n",
    "In addition, 11:59 and 12:01 are only 2 minutes apart but using hour of the day they are in completely different hours of the day 0 and 23.\n",
    "This can be problematic when using regression where time of day is treated as a continuous covariate.\n",
    "Data with no true zero has unique properties that require special statistical consideration and this sheet will walk you through some things to consider.\n",
    "\n",
    "For these examples, we will use Stata."
   ]
  },
  {
   "cell_type": "code",
   "execution_count": 1,
   "id": "08a2317d-a708-4fd9-b66a-f4e72f4d360a",
   "metadata": {},
   "outputs": [],
   "source": [
    "import ipystata\n",
    "from ipystata.config import config_stata\n",
    "config_stata(\"C:\\Program Files\\Stata17\\StataMP-64.exe\") "
   ]
  },
  {
   "cell_type": "code",
   "execution_count": 6,
   "id": "ce3f45b6-2ad9-4e91-83c8-5b69e939ce91",
   "metadata": {},
   "outputs": [
    {
     "name": "stdout",
     "output_type": "stream",
     "text": [
      "version 17.0\n",
      "\n"
     ]
    }
   ],
   "source": [
    "%%stata \n",
    "version"
   ]
  },
  {
   "cell_type": "markdown",
   "id": "ce6e96c2-9f14-4276-ab55-eb4cbebe5308",
   "metadata": {},
   "source": [
    "## Example data"
   ]
  },
  {
   "cell_type": "code",
   "execution_count": null,
   "id": "d0c1277b-7d4d-4962-b876-59b0a04f8d6c",
   "metadata": {},
   "outputs": [],
   "source": []
  }
 ],
 "metadata": {
  "kernelspec": {
   "display_name": "Python 3 (ipykernel)",
   "language": "python",
   "name": "python3"
  },
  "language_info": {
   "codemirror_mode": {
    "name": "ipython",
    "version": 3
   },
   "file_extension": ".py",
   "mimetype": "text/x-python",
   "name": "python",
   "nbconvert_exporter": "python",
   "pygments_lexer": "ipython3",
   "version": "3.9.7"
  }
 },
 "nbformat": 4,
 "nbformat_minor": 5
}
